# Lorenz63 Attractor Visualization

This notebook visualizes trajectories of the Lorenz63 chaotic attractor defined in `data.lorenz63_spec`.

- System: dot(x1) = sigma*(x2-x1), dot(x2) = x1*(rho-x3)-x2, dot(x3) = x1*x2 - beta*x3
- Parameters: sigma = 10.0, rho = 28.0, beta = 8.0/3.0
- Initial conditions: perturbing (0, 1, 1.05) with Gaussian noise (std=1)
- Integrator: RK4 (from `data.rk4_step`)

import os, sys
sys.path.insert(0, os.path.abspath(".."))

import numpy as np
import matplotlib.pyplot as plt
from mpl_toolkits.mplot3d import Axes3D

from data import lorenz63_spec, rk4_step

spec = lorenz63_spec()

# Simulation settings
rng = np.random.default_rng(0)
num_trajs = 3
steps = 3000
dt = 0.01

# Sample initial conditions
inits = [spec.init_sampler(rng).astype(np.float32) for _ in range(num_trajs)]
print("Initial conditions:")
for i, init in enumerate(inits):
    print(f"  Trajectory {i}: {init}")

# Simulate
trajectories = []
for idx in range(num_trajs):
    x = inits[idx].copy()
    traj = np.zeros((steps, 3), dtype=np.float32)
    for k in range(steps):
        traj[k] = x
        x = rk4_step(spec.dynamics, k * dt, x, dt)
    trajectories.append(traj)

# 3D plot of trajectories
fig = plt.figure(figsize=(10, 8))
ax = fig.add_subplot(111, projection='3d')

for traj in trajectories:
    ax.plot(traj[:, 0], traj[:, 1], traj[:, 2], alpha=0.8, linewidth=0.5)

ax.set_xlabel("x1")
ax.set_ylabel("x2")
ax.set_zlabel("x3")
ax.set_title("Lorenz63 Chaotic Attractor Trajectories")
plt.tight_layout()
plt.show()

# Time series plots
plt.figure(figsize=(12, 8))

t = np.arange(steps) * dt

for i in range(3):
    plt.subplot(3, 1, i+1)
    traj = trajectories[0]  # Show first trajectory
    plt.plot(t, traj[:, i], label=f"x{i+1}")
    plt.xlabel("time")
    plt.ylabel(f"x{i+1}")
    plt.title(f"Time series of x{i+1}")
    plt.grid(True, alpha=0.3)

plt.tight_layout()
plt.show()

# Phase portrait: x1 vs x2
plt.figure(figsize=(8, 6))
for traj in trajectories:
    plt.plot(traj[:, 0], traj[:, 1], alpha=0.7)

plt.xlabel("x1")
plt.ylabel("x2")
plt.title("Lorenz63 Phase Portrait (x1 vs x2)")
plt.grid(True, alpha=0.3)
plt.tight_layout()
plt.show()

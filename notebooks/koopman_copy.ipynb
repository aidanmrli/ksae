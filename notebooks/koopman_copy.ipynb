{
 "cells": [
  {
   "cell_type": "markdown",
   "metadata": {
    "id": "pDpEnW7NZ44z"
   },
   "source": [
    "# Koopman Representations"
   ]
  },
  {
   "cell_type": "markdown",
   "metadata": {
    "id": "wIDKokEtZ_o0"
   },
   "source": [
    "### Imports"
   ]
  },
  {
   "cell_type": "code",
   "execution_count": 3,
   "metadata": {
    "id": "Ll2I80AZ9zVt"
   },
   "outputs": [
    {
     "ename": "ModuleNotFoundError",
     "evalue": "No module named 'ml_collections'",
     "output_type": "error",
     "traceback": [
      "\u001b[31m---------------------------------------------------------------------------\u001b[39m",
      "\u001b[31mModuleNotFoundError\u001b[39m                       Traceback (most recent call last)",
      "\u001b[36mCell\u001b[39m\u001b[36m \u001b[39m\u001b[32mIn[3]\u001b[39m\u001b[32m, line 10\u001b[39m\n\u001b[32m      7\u001b[39m \u001b[38;5;28;01mimport\u001b[39;00m\u001b[38;5;250m \u001b[39m\u001b[34;01mshutil\u001b[39;00m\n\u001b[32m      9\u001b[39m \u001b[38;5;66;03m# !pip install ml-collections\u001b[39;00m\n\u001b[32m---> \u001b[39m\u001b[32m10\u001b[39m \u001b[38;5;28;01mimport\u001b[39;00m\u001b[38;5;250m \u001b[39m\u001b[34;01mml_collections\u001b[39;00m\n\u001b[32m     11\u001b[39m \u001b[38;5;28;01mimport\u001b[39;00m\u001b[38;5;250m \u001b[39m\u001b[34;01mjax\u001b[39;00m\n\u001b[32m     12\u001b[39m \u001b[38;5;28;01mfrom\u001b[39;00m\u001b[38;5;250m \u001b[39m\u001b[34;01mjax\u001b[39;00m\u001b[38;5;250m \u001b[39m\u001b[38;5;28;01mimport\u001b[39;00m numpy \u001b[38;5;28;01mas\u001b[39;00m jnp\n",
      "\u001b[31mModuleNotFoundError\u001b[39m: No module named 'ml_collections'"
     ]
    }
   ],
   "source": [
    "import os\n",
    "from typing import Optional, Callable, Any, Sequence, Mapping\n",
    "from datetime import datetime\n",
    "from abc import ABC, abstractmethod\n",
    "import functools\n",
    "import importlib\n",
    "import shutil\n",
    "\n",
    "# !pip install ml-collections\n",
    "import ml_collections\n",
    "import jax\n",
    "from jax import numpy as jnp\n",
    "import flax\n",
    "from flax import linen as nn\n",
    "from flax.training.train_state import TrainState\n",
    "import optax\n",
    "\n",
    "from matplotlib import pyplot as plt\n",
    "%matplotlib inline\n",
    "from IPython.display import clear_output\n",
    "\n",
    "clear_output()"
   ]
  },
  {
   "cell_type": "markdown",
   "metadata": {
    "id": "dYyUyHXZaDZy"
   },
   "source": [
    "### Types"
   ]
  },
  {
   "cell_type": "code",
   "execution_count": null,
   "metadata": {
    "id": "1CLb6Y1_zSTV"
   },
   "outputs": [],
   "source": [
    "Params = Any\n",
    "PRNGKey = Any\n",
    "Unused = Any\n",
    "Metrics = Mapping[str, jnp.ndarray]\n",
    "key: PRNGKey = jax.random.PRNGKey(0)"
   ]
  },
  {
   "cell_type": "markdown",
   "metadata": {
    "id": "bLL8Y7OEaEzq"
   },
   "source": [
    "### Configuration"
   ]
  },
  {
   "cell_type": "code",
   "execution_count": null,
   "metadata": {
    "id": "hHQlWQjst8-4"
   },
   "outputs": [],
   "source": [
    "def get_config():\n",
    "  _C = ml_collections.ConfigDict()\n",
    "  _C.SEED = 0\n",
    "\n",
    "  _C.ENV = ml_collections.ConfigDict()\n",
    "  _C.ENV.ENV_NAME = \"DuffingOscillator\"   # from [\"DuffingOscillator\", \"DS239\"]\n",
    "\n",
    "  _C.ENV.DS239 = ml_collections.ConfigDict()\n",
    "  _C.ENV.DS239.LAMBDA = -1.0\n",
    "  _C.ENV.DS239.MU = -0.1\n",
    "  _C.ENV.DS239.DT = 0.1\n",
    "\n",
    "  _C.ENV.DUFFING = ml_collections.ConfigDict()\n",
    "  _C.ENV.DUFFING.DT = 0.01\n",
    "\n",
    "  _C.MODEL = ml_collections.ConfigDict()\n",
    "  _C.MODEL.MODEL_NAME = \"SparseKM\"   # from [\"GenericKM\", \"SparseKM\", \"LISTAKM\"]\n",
    "  _C.MODEL.NORM_FN = \"id\"   # from [\"id\", \"ball\"]\n",
    "  _C.MODEL.TARGET_SIZE = 16 # zdim\n",
    "\n",
    "  # loss coefficients\n",
    "  _C.MODEL.RES_COEFF = 1.0\n",
    "  _C.MODEL.RECONST_COEFF = 0.02\n",
    "  _C.MODEL.PRED_COEFF = 0.\n",
    "  _C.MODEL.SPARSITY_COEFF = 1.0\n",
    "\n",
    "  _C.MODEL.ENCODER = ml_collections.ConfigDict()\n",
    "  _C.MODEL.ENCODER.LAYERS = [16, 16]\n",
    "  _C.MODEL.ENCODER.LAST_RELU = False\n",
    "  _C.MODEL.ENCODER.USE_BIAS = False\n",
    "\n",
    "  _C.MODEL.ENCODER.LISTA = ml_collections.ConfigDict()\n",
    "  _C.MODEL.ENCODER.LISTA.NUM_LOOPS = 10\n",
    "  _C.MODEL.ENCODER.LISTA.L = 1e3\n",
    "  _C.MODEL.ENCODER.LISTA.ALPHA = 0.1\n",
    "  _C.MODEL.ENCODER.LISTA.LINEAR_ENCODER = False\n",
    "\n",
    "  _C.MODEL.DECODER = ml_collections.ConfigDict()\n",
    "  _C.MODEL.DECODER.LAYERS = []  # linear decoder should be good\n",
    "  _C.MODEL.DECODER.USE_BIAS = False\n",
    "\n",
    "  _C.TRAIN = ml_collections.ConfigDict()\n",
    "  _C.TRAIN.NUM_STEPS = 2_000\n",
    "  _C.TRAIN.BATCH_SIZE = 256\n",
    "  _C.TRAIN.DATA_SIZE = 256 * 8\n",
    "  _C.TRAIN.LR = 1e-3\n",
    "\n",
    "  return _C\n",
    "\n",
    "cfg = get_config()"
   ]
  },
  {
   "cell_type": "markdown",
   "metadata": {
    "id": "ltZAY5wHaHGe"
   },
   "source": [
    "## Environment"
   ]
  },
  {
   "cell_type": "markdown",
   "metadata": {
    "id": "IPdCHMlUaM2S"
   },
   "source": [
    "### Env Common"
   ]
  },
  {
   "cell_type": "code",
   "execution_count": null,
   "metadata": {
    "id": "uCk-IbmZ_FS1"
   },
   "outputs": [],
   "source": [
    "class Env(ABC):\n",
    "  \"\"\"Base Env class.\"\"\"\n",
    "\n",
    "  def __init__(self, cfg: Optional[ml_collections.ConfigDict], *args, **kwargs):\n",
    "    self.cfg = cfg\n",
    "\n",
    "  @abstractmethod\n",
    "  def reset(self, rng=jnp.ndarray) -> jnp.ndarray:\n",
    "    pass\n",
    "\n",
    "  @abstractmethod\n",
    "  def step(self, state: jnp.ndarray, action: Optional[jnp.ndarray] = None, *args) -> jnp.ndarray:\n",
    "    pass\n",
    "\n",
    "  @property\n",
    "  def observation_size(self) -> int:\n",
    "    rng = jax.random.PRNGKey(0)\n",
    "    reset_state = self.unwrapped.reset(rng)\n",
    "    return reset_state.shape[-1]\n",
    "\n",
    "  @property\n",
    "  def action_size(self) -> int:\n",
    "    return self.action_size\n",
    "\n",
    "  @property\n",
    "  def unwrapped(self) -> 'Env':\n",
    "    return self\n",
    "\n",
    "\n",
    "class Wrapper(Env):\n",
    "  \"\"\"Base Wrapper class.\"\"\"\n",
    "\n",
    "  def __init__(self, env: Env):\n",
    "    super().__init__(cfg=None)\n",
    "    self.env = env\n",
    "\n",
    "  def reset(self, rng: jnp.ndarray) -> jnp.ndarray:\n",
    "    return self.env.reset(rng)\n",
    "\n",
    "  def step(self, state: jnp.ndarray, action: Optional[jnp.ndarray] = None, *args) -> jnp.ndarray:\n",
    "    return self.env.step(state, action, *args)\n",
    "\n",
    "  @property\n",
    "  def observation_size(self) -> int:\n",
    "    return self.env.observation_size\n",
    "\n",
    "  @property\n",
    "  def action_size(self) -> int:\n",
    "    return self.env.action_size\n",
    "\n",
    "  @property\n",
    "  def unwrapped(self) -> Env:\n",
    "    return self.env.unwrapped"
   ]
  },
  {
   "cell_type": "code",
   "execution_count": null,
   "metadata": {
    "id": "UWzfXqIQhXTA"
   },
   "outputs": [],
   "source": [
    "class VectorWrapper(Wrapper):\n",
    "  \"\"\"Class for vectorization of env ops.\"\"\"\n",
    "\n",
    "  def __init__(self, env: Env, batch_size: int):\n",
    "    super().__init__(env)\n",
    "    self.batch_size = batch_size\n",
    "\n",
    "  def reset(self, rng: jnp.ndarray) -> jnp.ndarray:\n",
    "    rng = jax.random.split(rng, self.batch_size)\n",
    "    return jax.vmap(self.env.reset)(rng)\n",
    "\n",
    "  def step(self, state: jnp.ndarray, action: Optional[jnp.ndarray] = None, *args) -> jnp.ndarray:\n",
    "    return jax.vmap(self.env.step, in_axes=(0, 0))(state, action, *args)"
   ]
  },
  {
   "cell_type": "code",
   "execution_count": null,
   "metadata": {
    "id": "nNl5iIxEyFAT"
   },
   "outputs": [],
   "source": [
    "def generate_trajectory(\n",
    "    env_step: Callable[[jnp.ndarray, Optional[jnp.ndarray]], jnp.ndarray],\n",
    "    init_state: Optional[jnp.ndarray],\n",
    "    length: Optional[int],\n",
    "    rng: PRNGKey,\n",
    "    actions: Optional[jnp.ndarray]=None) -> jnp.ndarray:\n",
    "\n",
    "    if actions is None:\n",
    "      assert length is not None\n",
    "      def scan_fn(carry, action):\n",
    "        state = carry\n",
    "        nstate = env_step(state)\n",
    "        return nstate, nstate\n",
    "      _, states = jax.lax.scan(scan_fn, init_state, (), length)\n",
    "    else:\n",
    "      def scan_fn(carry, action):\n",
    "        state = carry\n",
    "        nstate = env_step(state, action)\n",
    "        return nstate, nstate\n",
    "      _, states = jax.lax.scan(scan_fn, init_state, actions)\n",
    "\n",
    "    # states = jnp.concatenate([init_state[None, :], states], axis=0)\n",
    "    return states"
   ]
  },
  {
   "cell_type": "code",
   "execution_count": null,
   "metadata": {
    "id": "CIRH8198oY2w"
   },
   "outputs": [],
   "source": [
    "#TODO(mahanf): add other integrators (RK4, Heun, etc)\n",
    "\n",
    "def integrate_euler(x: jnp.ndarray, u: Optional[jnp.ndarray], dt: float,\n",
    "    dynamics_fn: Callable[[jnp.ndarray, Optional[jnp.ndarray]], jnp.ndarray]) -> jnp.ndarray:\n",
    "    return x + dt * dynamics_fn(x, u)"
   ]
  },
  {
   "cell_type": "markdown",
   "metadata": {
    "id": "KKy38aG8aVeY"
   },
   "source": [
    "### DS239"
   ]
  },
  {
   "cell_type": "code",
   "execution_count": null,
   "metadata": {
    "id": "QiQtmjKGiWR6"
   },
   "outputs": [],
   "source": [
    "class DS239(Env):\n",
    "\n",
    "  def __init__(self, cfg: ml_collections.ConfigDict):\n",
    "    super().__init__(cfg)\n",
    "    self.const_lambda = cfg.ENV.DS239.LAMBDA\n",
    "    self.const_mu = cfg.ENV.DS239.MU\n",
    "    self.dt = cfg.ENV.DS239.DT\n",
    "\n",
    "  @property\n",
    "  def action_size(self) -> int:\n",
    "    return 0\n",
    "\n",
    "  def reset(self, rng: jnp.ndarray) -> jnp.ndarray:\n",
    "    return jax.random.uniform(rng, shape=[2, ], minval=-1.0, maxval=1.0)\n",
    "\n",
    "  def step(self, state: jnp.ndarray, action: Optional[jnp.ndarray] = None, *args) -> jnp.ndarray:\n",
    "\n",
    "    @jax.jit\n",
    "    def dynamics_fn(state, action=None):\n",
    "      x1, x2 = state\n",
    "      xd1 = self.const_mu * x1\n",
    "      xd2 = self.const_lambda * (x2 - x1 ** 2)\n",
    "      return jnp.array([xd1, xd2])\n",
    "\n",
    "    return integrate_euler(state, None, self.dt, dynamics_fn)"
   ]
  },
  {
   "cell_type": "markdown",
   "metadata": {
    "id": "g0XKMvHOaYMz"
   },
   "source": [
    "### Duffing Oscillator"
   ]
  },
  {
   "cell_type": "code",
   "execution_count": null,
   "metadata": {
    "id": "sRoyS9-klTeA"
   },
   "outputs": [],
   "source": [
    "class DuffingOscillator(Env):\n",
    "\n",
    "  def __init__(self, cfg: ml_collections.ConfigDict):\n",
    "    super().__init__(cfg)\n",
    "    self.dt = cfg.ENV.DUFFING.DT\n",
    "\n",
    "  @property\n",
    "  def action_size(self) -> int:\n",
    "    return 0\n",
    "\n",
    "  def reset(self, rng: jnp.ndarray) -> jnp.ndarray:\n",
    "    rng_x1, rng_x2 = jax.random.split(rng)\n",
    "    x1 = jax.random.uniform(rng_x1, minval=-1.5, maxval=1.5)\n",
    "    x2 = jax.random.uniform(rng_x2, minval=-1.0, maxval=1.0)\n",
    "    return jnp.array([x1, x2])\n",
    "\n",
    "  def step(self, state: jnp.ndarray, action: Optional[jnp.ndarray] = None, *args) -> jnp.ndarray:\n",
    "\n",
    "    @jax.jit\n",
    "    def dynamics_fn(state, action=None):\n",
    "      x1, x2 = state\n",
    "      xd1 = x2\n",
    "      xd2 = x1 - x1 ** 3\n",
    "      return jnp.array([xd1, xd2])\n",
    "\n",
    "    return integrate_euler(state, None, self.dt, dynamics_fn)"
   ]
  },
  {
   "cell_type": "markdown",
   "metadata": {
    "id": "KaQnkrsPactc"
   },
   "source": [
    "### Misc"
   ]
  },
  {
   "cell_type": "code",
   "execution_count": null,
   "metadata": {
    "id": "ZnXjaP2ChvVi"
   },
   "outputs": [],
   "source": [
    "_ENV_REGISTRY = {\n",
    "    \"DS239\": DS239,\n",
    "    \"DuffingOscillator\": DuffingOscillator,\n",
    "}\n",
    "\n",
    "def make_env(cfg: ml_collections.ConfigDict):\n",
    "  return _ENV_REGISTRY[cfg.ENV.ENV_NAME](cfg)"
   ]
  },
  {
   "cell_type": "code",
   "execution_count": null,
   "metadata": {
    "id": "ywUpLiv2xB6s"
   },
   "outputs": [],
   "source": [
    "key, key_traj, key_init = jax.random.split(key, 3)\n",
    "env = make_env(cfg)\n",
    "env = VectorWrapper(env, 256)\n",
    "init_state = env.reset(key_init)\n",
    "traj = generate_trajectory(env.step, init_state, 200, key_traj)\n",
    "plt.plot(traj[:, :, 0], traj[:, :, 1])\n",
    "plt.xlabel('x1')\n",
    "plt.ylabel('x2')\n",
    "plt.title('{\\u03BC x1, \\u03BB (x2 - x1 ^ 2)}')\n",
    "plt.show()"
   ]
  },
  {
   "cell_type": "markdown",
   "metadata": {
    "id": "SK1LmeC2aeeE"
   },
   "source": [
    "## Model"
   ]
  },
  {
   "cell_type": "markdown",
   "metadata": {
    "id": "oaKYcCdYahj0"
   },
   "source": [
    "### Model Basics"
   ]
  },
  {
   "cell_type": "code",
   "execution_count": null,
   "metadata": {
    "id": "4VmdFcAwJ5nH"
   },
   "outputs": [],
   "source": [
    "class MLPcoder(nn.Module):\n",
    "  target_size: int\n",
    "  hidden_layers: Sequence[int]\n",
    "  last_relu: bool = False\n",
    "  use_bias: bool = False\n",
    "\n",
    "  def setup(self):\n",
    "    last_act = nn.relu if self.last_relu else lambda x: x\n",
    "    self.coder = nn.Sequential([\n",
    "        entry\n",
    "        for layer in [[nn.Dense(hidden, use_bias=True), nn.relu] for hidden in self.hidden_layers]\n",
    "        for entry in layer\n",
    "        ] + [nn.Dense(self.target_size, use_bias=True), last_act])\n",
    "\n",
    "  def __call__(self, input):\n",
    "    return self.coder(input)"
   ]
  },
  {
   "cell_type": "code",
   "execution_count": null,
   "metadata": {
    "id": "27F51Ct11Lny"
   },
   "outputs": [],
   "source": [
    "def shrink(x: jnp.ndarray, threshold: float) -> jnp.ndarray:\n",
    "  return jnp.sign(x) * jnp.maximum(jnp.abs(x) - threshold, jnp.zeros_like(x))\n",
    "\n",
    "def _fori_loop(lower, upper, body_fun, init_val):\n",
    "  val = init_val\n",
    "  for i in range(lower, upper):\n",
    "    val = body_fun(i, val)\n",
    "  return val\n",
    "\n",
    "class LISTA(nn.Module):\n",
    "  cfg: ml_collections.ConfigDict\n",
    "  xdim: int\n",
    "  Wd_init: jnp.ndarray # trainable for now\n",
    "  dtype: str = \"float32\"\n",
    "\n",
    "  @staticmethod\n",
    "  def _get_S_initializer(Wd: jnp.ndarray, L):\n",
    "    \"\"\"S mat initializer.\"\"\"\n",
    "    def _S_initializer(\n",
    "      key: PRNGKey,\n",
    "      shape: jnp.ndarray,\n",
    "      dtype: Unused = \"float32\",\n",
    "      ) -> jnp.ndarray:\n",
    "      del key, shape, dtype\n",
    "      zdim = Wd.shape[0]\n",
    "      return jnp.eye(zdim) - (1. / L) * Wd @ Wd.T\n",
    "    return _S_initializer\n",
    "\n",
    "  @staticmethod\n",
    "  def _get_We_initializer(Wd: jnp.ndarray, L):\n",
    "    \"\"\"We mat initializer.\"\"\"\n",
    "    def _We_initializer(\n",
    "      key: PRNGKey,\n",
    "      shape: jnp.ndarray,\n",
    "      dtype: Unused = \"float32\",\n",
    "      ) -> jnp.ndarray:\n",
    "      del key, shape, dtype\n",
    "      return (1. / L) * Wd.T\n",
    "    return _We_initializer\n",
    "\n",
    "  def setup(self):\n",
    "\n",
    "    # # init unnormalized Wd\n",
    "    # self._Wd = self.param(\n",
    "    #     \"Wd\", nn.initializers.normal(), (self.zdim, self.xdim), self.dtype)\n",
    "\n",
    "    xdim = self.xdim\n",
    "    zdim = self.cfg.MODEL.TARGET_SIZE\n",
    "    n_loops = self.cfg.MODEL.ENCODER.LISTA.NUM_LOOPS\n",
    "    alpha = self.cfg.MODEL.ENCODER.LISTA.ALPHA\n",
    "    L = self.cfg.MODEL.ENCODER.LISTA.L\n",
    "    use_linear_encode = self.cfg.MODEL.ENCODER.LISTA.LINEAR_ENCODER\n",
    "\n",
    "    assert self.Wd_init.shape == (zdim, xdim)\n",
    "\n",
    "    if use_linear_encode:\n",
    "      self.We = nn.Dense(\n",
    "          zdim, use_bias=False, kernel_init=self._get_We_initializer(self.Wd_init, L))\n",
    "    else:\n",
    "      self.We = MLPcoder(\n",
    "          target_size=zdim,\n",
    "          hidden_layers=self.cfg.MODEL.ENCODER.LAYERS,\n",
    "          use_bias=self.cfg.MODEL.ENCODER.USE_BIAS,\n",
    "          last_relu=self.cfg.MODEL.ENCODER.LAST_RELU)\n",
    "\n",
    "    # self.We = self.param(\n",
    "    #     \"We\", self._get_We_initializer(self.Wd_init), (self.xdim, self.zdim), self.dtype)\n",
    "\n",
    "    self.S = self.param(\n",
    "        \"S\", self._get_S_initializer(self.Wd_init, L), (zdim, zdim), self.dtype)\n",
    "\n",
    "  def __call__(self, x: jnp.ndarray) -> jnp.ndarray:\n",
    "    # fori_loop = jax.lax.fori_loop\n",
    "    fori_loop = _fori_loop\n",
    "\n",
    "    n_loops = self.cfg.MODEL.ENCODER.LISTA.NUM_LOOPS\n",
    "    alpha = self.cfg.MODEL.ENCODER.LISTA.ALPHA\n",
    "    L = self.cfg.MODEL.ENCODER.LISTA.L\n",
    "\n",
    "    nonsparse_code = self.We(x)\n",
    "    return fori_loop(\n",
    "        0, n_loops,\n",
    "        lambda _, z: shrink(z @ self.S + nonsparse_code, alpha/L),\n",
    "        shrink(nonsparse_code, alpha/L))"
   ]
  },
  {
   "cell_type": "code",
   "execution_count": null,
   "metadata": {
    "id": "ni1CUXK8YQ-w"
   },
   "outputs": [],
   "source": [
    "class KoopmanMachine(ABC):\n",
    "\n",
    "  # TODO(mahanf): support actuated envs?\n",
    "  action_size: Optional[int] = None\n",
    "\n",
    "  def __init__(self,\n",
    "               cfg: ml_collections.ConfigDict,\n",
    "               observation_size: int,\n",
    "               ):\n",
    "\n",
    "    self.cfg = cfg\n",
    "    self.target_size = cfg.MODEL.TARGET_SIZE\n",
    "    self.observation_size = observation_size\n",
    "\n",
    "    self.loss_grad = jax.value_and_grad(self.loss, has_aux=True)\n",
    "\n",
    "\n",
    "  @abstractmethod\n",
    "  def init(self, key: PRNGKey) -> Params:\n",
    "    pass\n",
    "\n",
    "  @abstractmethod\n",
    "  def encode(self, params: Params, x: jnp.array):\n",
    "    \"\"\"Representations are extracted here.\"\"\"\n",
    "    pass\n",
    "\n",
    "  @abstractmethod\n",
    "  def decode(self, params: Params, y: jnp.array):\n",
    "    \"\"\"Takes representations from encoded space to real space.\n",
    "    This could be only for monitoring purposes.\n",
    "    \"\"\"\n",
    "    pass\n",
    "\n",
    "  @abstractmethod\n",
    "  def kmatrix(self, params: Params):\n",
    "    \"\"\"Koopman Operator Matrix.\n",
    "      Extracts the learned kmatrix from parameters.\n",
    "    \"\"\"\n",
    "    pass\n",
    "\n",
    "  @abstractmethod\n",
    "  def loss(self, params: Params, x: jnp.ndarray, nx: jnp.ndarray) -> (jnp.ndarray, Metrics):\n",
    "    \"\"\"Contains the bread and butter of the method.\"\"\"\n",
    "\n",
    "  def update(self, params: Params, x: Optional[jnp.ndarray]=None, nx: Optional[jnp.ndarray]=None):\n",
    "    \"\"\"Called every so often during training.\"\"\"\n",
    "    pass\n",
    "\n",
    "  def step_latent(self, params: Params, y: jnp.ndarray) -> jnp.ndarray:\n",
    "    kmatrix = self.kmatrix(params)\n",
    "    ny = y @ kmatrix\n",
    "    return ny\n",
    "\n",
    "  def step_env(self, params: Params, x: jnp.ndarray) -> jnp.ndarray:\n",
    "    y = self.encode(params, x)\n",
    "    ny = self.step_latent(params, y)\n",
    "    nx = self.decode(params, ny)\n",
    "    return nx"
   ]
  },
  {
   "cell_type": "code",
   "execution_count": null,
   "metadata": {
    "id": "Rgw-FMM3IWJx"
   },
   "outputs": [],
   "source": [
    "def norm_wrapper(cls):\n",
    "  class WrapperClass(cls):\n",
    "    def __init__(self, *args, **kwargs):\n",
    "      super().__init__(*args, **kwargs)\n",
    "\n",
    "    def encode(self, params: Params, x: jnp.array) -> jnp.ndarray:\n",
    "      y = super().encode(params, x)\n",
    "      return super().norm_fn(y)\n",
    "\n",
    "    def step_latent(self, params: Params, y: jnp.ndarray) -> jnp.ndarray:\n",
    "      ny = super().step_latent(params, y)\n",
    "      return super().norm_fn(ny)\n",
    "  return WrapperClass"
   ]
  },
  {
   "cell_type": "code",
   "execution_count": null,
   "metadata": {
    "id": "B_76OZ94c4_0"
   },
   "outputs": [],
   "source": [
    "# eigvals cannot be computed on gpu :)\n",
    "eigvals_fn = jax.jit(jnp.linalg.eigvals, backend='cpu')"
   ]
  },
  {
   "cell_type": "markdown",
   "metadata": {
    "id": "-Kw2s6Gyajn7"
   },
   "source": [
    "### Reconstructional Models"
   ]
  },
  {
   "cell_type": "markdown",
   "metadata": {
    "id": "YGuGDxudasth"
   },
   "source": [
    "#### Reconstruction w/ Explicit Linear Alignment"
   ]
  },
  {
   "cell_type": "code",
   "execution_count": null,
   "metadata": {
    "id": "rbfMjeE7du7I"
   },
   "outputs": [],
   "source": [
    "@norm_wrapper\n",
    "class GenericKM(KoopmanMachine):\n",
    "\n",
    "  def __init__(self,\n",
    "               cfg: ml_collections.ConfigDict,\n",
    "               observation_size: int,\n",
    "               ):\n",
    "\n",
    "    super().__init__(cfg, observation_size)\n",
    "\n",
    "    self._encoder = MLPcoder(\n",
    "        target_size=cfg.MODEL.TARGET_SIZE,\n",
    "        hidden_layers=cfg.MODEL.ENCODER.LAYERS,\n",
    "        use_bias=cfg.MODEL.ENCODER.USE_BIAS,\n",
    "        last_relu=cfg.MODEL.ENCODER.LAST_RELU,\n",
    "    )\n",
    "    self._decoder = MLPcoder(\n",
    "        target_size=observation_size,\n",
    "        hidden_layers=cfg.MODEL.DECODER.LAYERS,\n",
    "        use_bias=cfg.MODEL.DECODER.USE_BIAS,\n",
    "        last_relu=False,\n",
    "    )\n",
    "\n",
    "\n",
    "  def norm_fn(self, x: jnp.ndarray) -> jnp.ndarray:\n",
    "    norm_fn = {\n",
    "        'id': lambda x: x,\n",
    "        'ball': lambda x: x / jnp.linalg.norm(x, axis=-1, keepdims=True),\n",
    "    }[cfg.MODEL.NORM_FN]\n",
    "    return norm_fn(x)\n",
    "\n",
    "  def _init_kmat(self, rng: PRNGKey) -> jnp.ndarray:\n",
    "    return jnp.eye(self.target_size)\n",
    "\n",
    "  def init(self, key: PRNGKey) -> Params:\n",
    "    key, key_kmat, key_encoder, key_decoder = jax.random.split(key, 4)\n",
    "    dummy_state = jnp.zeros([self.observation_size])\n",
    "    dummy_latent = jnp.zeros([self.target_size])\n",
    "    encoder_params = self._encoder.init(key_encoder, dummy_state)\n",
    "    decoder_params = self._decoder.init(key_decoder, dummy_latent)\n",
    "    kmat_params = self._init_kmat(key_kmat)\n",
    "    return {\n",
    "        'encoder': encoder_params,\n",
    "        'decoder': decoder_params,\n",
    "        'kmat': kmat_params,\n",
    "    }\n",
    "\n",
    "  def encode(self, params: Params, x: jnp.array):\n",
    "    return self._encoder.apply(params['encoder'], x)\n",
    "\n",
    "  def decode(self, params: Params, y: jnp.array):\n",
    "    return self._decoder.apply(params['decoder'], y)\n",
    "\n",
    "  def kmatrix(self, params: Params, x: Optional[jnp.ndarray]=None, nx: Optional[jnp.ndarray]=None):\n",
    "    return params['kmat']\n",
    "\n",
    "  def residual(self, params: Params, x: jnp.ndarray, nx: jnp.ndarray):\n",
    "    \"\"\"Determines how linearly aligned x & nx are in the latent space.\"\"\"\n",
    "\n",
    "    y = self.encode(params, x)\n",
    "    ny = self.encode(params, nx)\n",
    "    kmatrix = self.kmatrix(params)\n",
    "    return jnp.linalg.norm(y @ kmatrix - ny, axis=-1)\n",
    "\n",
    "  def reconstruction(self, params: Params, x: jnp.ndarray):\n",
    "    return self.decode(params, self.encode(params, x))\n",
    "\n",
    "  def sparsity_loss(self, params: Params, x: jnp.ndarray):\n",
    "    z = self.encode(params, x)\n",
    "    return jnp.linalg.norm(z, axis=-1, ord=1).mean()\n",
    "\n",
    "  def loss(self, params: Params, x: jnp.ndarray, nx: jnp.ndarray):\n",
    "\n",
    "    # linear prediction loss\n",
    "    kmat = self.kmatrix(params)\n",
    "    prediction = self.decode(params, self.encode(params, x) @ kmat)\n",
    "    prediction_loss = jnp.linalg.norm(prediction - nx, axis=-1).mean()\n",
    "\n",
    "    # linear dynamics loss\n",
    "    residual_loss = self.residual(params, x, nx).mean()\n",
    "\n",
    "    # reconstruction loss\n",
    "    reconst_loss = jnp.linalg.norm(x - self.reconstruction(params, x), axis=-1).mean()\n",
    "    reconst_loss += jnp.linalg.norm(nx - self.reconstruction(params, nx), axis=-1).mean()\n",
    "\n",
    "    # sparsity loss\n",
    "    sparsity_loss = self.sparsity_loss(params, x)\n",
    "    sparsity_loss += self.sparsity_loss(params, nx)\n",
    "    sparsity_loss *= 0.5\n",
    "\n",
    "    # koopman matrix eigenvalues\n",
    "    max_eigenvalue = jnp.max(jnp.real(eigvals_fn(kmat)))\n",
    "\n",
    "    # nonzero codes\n",
    "    num_nonzero_codes = jnp.linalg.norm(self.encode(params, x), axis=-1, ord=0).mean()\n",
    "    sparsity_ratio = 1. - num_nonzero_codes / self.target_size\n",
    "\n",
    "    loss = (\n",
    "        cfg.MODEL.RES_COEFF * residual_loss\n",
    "        + cfg.MODEL.RECONST_COEFF * reconst_loss\n",
    "        + cfg.MODEL.PRED_COEFF * prediction_loss\n",
    "        + cfg.MODEL.SPARSITY_COEFF * sparsity_loss)\n",
    "\n",
    "    metrics = {\n",
    "        'loss': loss,\n",
    "        'residual_loss': residual_loss,\n",
    "        'reconst_loss': reconst_loss,\n",
    "        'prediction_loss': prediction_loss,\n",
    "        'A_max_eigenvalue': max_eigenvalue,\n",
    "        'sparsity_ratio': sparsity_ratio,\n",
    "    }\n",
    "\n",
    "    return loss, metrics"
   ]
  },
  {
   "cell_type": "markdown",
   "metadata": {
    "id": "7L5oqPvEBO0K"
   },
   "source": [
    "#### LISTA Koopman Machine"
   ]
  },
  {
   "cell_type": "code",
   "execution_count": null,
   "metadata": {
    "id": "FdCoe0bYBdmX"
   },
   "outputs": [],
   "source": [
    "class LISTAKM(KoopmanMachine):\n",
    "  def __init__(self,\n",
    "               cfg: ml_collections.ConfigDict,\n",
    "               observation_size: int,\n",
    "               ):\n",
    "    super().__init__(cfg, observation_size)\n",
    "\n",
    "\n",
    "  def _init_kmat(self, rng: PRNGKey) -> jnp.ndarray:\n",
    "    return jnp.eye(self.target_size)\n",
    "\n",
    "  def _init_dict(self, rng: PRNGKey) -> jnp.ndarray:\n",
    "    return jax.random.normal(rng, shape=(self.target_size, self.observation_size))\n",
    "\n",
    "  def init(self, key: PRNGKey) -> Params:\n",
    "    key, key_kmat, key_lista, key_dict = jax.random.split(key, 4)\n",
    "    dict_params = self._init_dict(key_dict)\n",
    "    self._lista = LISTA(\n",
    "      cfg=self.cfg,\n",
    "      xdim=self.observation_size,\n",
    "      Wd_init=dict_params,\n",
    "    )\n",
    "    dummy_state = jnp.zeros([self.observation_size])\n",
    "    lista_params = self._lista.init(key_lista, dummy_state)\n",
    "    kmat_params = self._init_kmat(key_kmat)\n",
    "    return {\n",
    "        'lista': lista_params,\n",
    "        'dict': dict_params,\n",
    "        'kmat': kmat_params,\n",
    "    }\n",
    "\n",
    "  def encode(self, params: Params, x: jnp.array):\n",
    "    return self._lista.apply(params['lista'], x)\n",
    "\n",
    "  def decode(self, params: Params, y: jnp.array):\n",
    "    wd = params['dict']\n",
    "    wd /= jnp.maximum(jnp.linalg.norm(wd, axis=1, keepdims=True), 1e-4)\n",
    "    return y @ wd\n",
    "\n",
    "  def kmatrix(self, params: Params, x: Optional[jnp.ndarray]=None, nx: Optional[jnp.ndarray]=None):\n",
    "    return params['kmat']\n",
    "\n",
    "  def residual(self, params: Params, x: jnp.ndarray, nx: jnp.ndarray):\n",
    "    \"\"\"Determines how linearly aligned x & nx are in the latent space.\"\"\"\n",
    "\n",
    "    y = self.encode(params, x)\n",
    "    ny = self.encode(params, nx)\n",
    "    kmatrix = self.kmatrix(params)\n",
    "    return jnp.linalg.norm(y @ kmatrix - ny, axis=-1)\n",
    "\n",
    "  def reconstruction(self, params: Params, x: jnp.ndarray):\n",
    "    return self.decode(params, self.encode(params, x))\n",
    "\n",
    "  def sparsity_loss(self, params: Params, x: jnp.ndarray):\n",
    "    z = self.encode(params, x)\n",
    "    return self.cfg.MODEL.ENCODER.LISTA.ALPHA * jnp.linalg.norm(z, axis=-1, ord=1).mean()\n",
    "\n",
    "  def loss(self, params: Params, x: jnp.ndarray, nx: jnp.ndarray):\n",
    "\n",
    "    # linear prediction loss\n",
    "    kmat = self.kmatrix(params)\n",
    "    prediction = self.decode(params, self.encode(params, x) @ kmat)\n",
    "    prediction_loss = jnp.linalg.norm(prediction - nx, axis=-1).mean()\n",
    "\n",
    "    # linear dynamics loss\n",
    "    residual_loss = self.residual(params, x, nx).mean()\n",
    "\n",
    "    # reconstruction loss\n",
    "    reconst_loss = jnp.linalg.norm(x - self.reconstruction(params, x), axis=-1).mean()\n",
    "    reconst_loss += jnp.linalg.norm(nx - self.reconstruction(params, nx), axis=-1).mean()\n",
    "\n",
    "    # sparsity loss\n",
    "    sparsity_loss = self.sparsity_loss(params, x)\n",
    "    sparsity_loss += self.sparsity_loss(params, nx)\n",
    "    sparsity_loss *= 0.5\n",
    "\n",
    "    # koopman matrix eigenvalues\n",
    "    max_eigenvalue = jnp.max(jnp.real(eigvals_fn(kmat)))\n",
    "\n",
    "    # nonzero codes\n",
    "    num_nonzero_codes = jnp.linalg.norm(self.encode(params, x), axis=-1, ord=0).mean()\n",
    "    sparsity_ratio = 1. - num_nonzero_codes / self.target_size\n",
    "\n",
    "    loss = (\n",
    "        cfg.MODEL.RES_COEFF * residual_loss\n",
    "        + cfg.MODEL.RECONST_COEFF * reconst_loss\n",
    "        + cfg.MODEL.PRED_COEFF * prediction_loss\n",
    "        + cfg.MODEL.SPARSITY_COEFF * sparsity_loss)\n",
    "\n",
    "\n",
    "    metrics = {\n",
    "        'loss': loss,\n",
    "        'residual_loss': residual_loss,\n",
    "        'reconst_loss': reconst_loss,\n",
    "        'sparsity_loss': sparsity_loss,\n",
    "        'prediction_loss': prediction_loss,\n",
    "        'sparsity_ratio': sparsity_ratio,\n",
    "        'A_max_eigenvalue': max_eigenvalue,\n",
    "    }\n",
    "\n",
    "    return loss, metrics"
   ]
  },
  {
   "cell_type": "markdown",
   "metadata": {
    "id": "7UG56-47anmC"
   },
   "source": [
    "#### [DEPRECATED] Reconstruction w/ Implicit Linear Alignment"
   ]
  },
  {
   "cell_type": "code",
   "execution_count": null,
   "metadata": {
    "id": "ae0hNqZG3_ZS"
   },
   "outputs": [],
   "source": [
    "class ReconKMImplicit(KoopmanMachine):\n",
    "\n",
    "  def __init__(self,\n",
    "               cfg: ml_collections.ConfigDict,\n",
    "               observation_size: int,\n",
    "               ):\n",
    "\n",
    "    super().__init__(cfg, observation_size)\n",
    "\n",
    "    self._encoder = MLPcoder(\n",
    "        target_size=cfg.MODEL.TARGET_SIZE,\n",
    "        hidden_layers=cfg.MODEL.ENCODER.LAYERS,\n",
    "        use_bias=cfg.MODEL.ENCODER.USE_BIAS,\n",
    "        last_relu=cfg.MODEL.ENCODER.LAST_RELU,\n",
    "    )\n",
    "    self._decoder = MLPcoder(\n",
    "        target_size=observation_size,\n",
    "        hidden_layers=cfg.MODEL.DECODER.LAYERS,\n",
    "        use_bias=cfg.MODEL.DECODER.USE_BIAS,\n",
    "        last_relu=False,\n",
    "    )\n",
    "\n",
    "  def init(self, key: PRNGKey) -> Params:\n",
    "    key, key_encoder, key_decoder = jax.random.split(key, 3)\n",
    "    dummy_state = jnp.zeros([self.observation_size])\n",
    "    dummy_latent = jnp.zeros([self.target_size])\n",
    "    encoder_params = self._encoder.init(key_encoder, dummy_state)\n",
    "    decoder_params = self._decoder.init(key_decoder, dummy_latent)\n",
    "    return {'encoder': encoder_params, 'decoder': decoder_params}\n",
    "\n",
    "  def encode(self, params: Params, x: jnp.array):\n",
    "    return self._encoder.apply(params['encoder'], x)\n",
    "\n",
    "  def decode(self, params: Params, y: jnp.array):\n",
    "    return self._decoder.apply(params['decoder'], y)\n",
    "\n",
    "  def kmatrix(self, params: Params, x: jnp.ndarray, nx: jnp.ndarray):\n",
    "    y = self.encode(params, x)\n",
    "    ny = self.encode(params, nx)\n",
    "    return jnp.linalg.lstsq(y, ny)[0]\n",
    "\n",
    "  def residual(self, params: Params, x: jnp.ndarray, nx: jnp.ndarray):\n",
    "    \"\"\"Determines how linearly aligned x & nx are in the latent space.\"\"\"\n",
    "\n",
    "    y = self.encode(params, x)\n",
    "    ny = self.encode(params, nx)\n",
    "    return jnp.linalg.lstsq(y, ny)[1] # kmatrix, residual\n",
    "\n",
    "  def reconstruction(self, params: Params, x: jnp.ndarray):\n",
    "    return self.decode(params, self.encode(params, x))\n",
    "\n",
    "  def loss(self, params: Params, x: jnp.ndarray, nx: jnp.ndarray):\n",
    "\n",
    "    # linear dynamics loss\n",
    "    residual_loss = self.residual(params, x, nx).mean()\n",
    "\n",
    "    # reconstruction loss\n",
    "    reconst_loss = jnp.linalg.norm(x - self.reconstruction(params, x), axis=-1).mean()\n",
    "    reconst_loss += jnp.linalg.norm(nx - self.reconstruction(params, nx), axis=-1).mean()\n",
    "    reconst_loss *= 0.02\n",
    "\n",
    "    loss = residual_loss + reconst_loss\n",
    "\n",
    "    return loss, {\n",
    "        'loss': loss,\n",
    "        'residual_loss': residual_loss,\n",
    "        'reconst_loss': reconst_loss,\n",
    "    }"
   ]
  },
  {
   "cell_type": "markdown",
   "metadata": {
    "id": "nRlEAyVV5f0c"
   },
   "source": [
    "#### [DEPRECATED] SimSiam Implicit Model"
   ]
  },
  {
   "cell_type": "code",
   "execution_count": null,
   "metadata": {
    "id": "tlaZAyi_5um7"
   },
   "outputs": [],
   "source": [
    "class SimSiamKMImplicit(KoopmanMachine):\n",
    "\n",
    "  def __init__(self,\n",
    "               cfg: ml_collections.ConfigDict,\n",
    "               observation_size: int,\n",
    "               ):\n",
    "\n",
    "    super().__init__(cfg, observation_size)\n",
    "\n",
    "    self._encoder = MLPcoder(\n",
    "        target_size=cfg.MODEL.TARGET_SIZE,\n",
    "        hidden_layers=cfg.MODEL.ENCODER.LAYERS,\n",
    "        use_bias=cfg.MODEL.ENCODER.USE_BIAS,\n",
    "        last_relu=cfg.MODEL.ENCODER.LAST_RELU,\n",
    "    )\n",
    "\n",
    "    self._predictor = MLPcoder(\n",
    "        target_size=cfg.MODEL.TARGET_SIZE,\n",
    "        hidden_layers=[cfg.MODEL.TARGET_SIZE],\n",
    "        use_bias=False,\n",
    "        last_relu=False,\n",
    "    )\n",
    "\n",
    "    self._decoder = MLPcoder(\n",
    "        target_size=observation_size,\n",
    "        hidden_layers=cfg.MODEL.DECODER.LAYERS,\n",
    "        use_bias=cfg.MODEL.DECODER.USE_BIAS,\n",
    "        last_relu=False,\n",
    "    )\n",
    "\n",
    "  def init(self, key: PRNGKey) -> Params:\n",
    "    key, key_encoder, key_decoder = jax.random.split(key, 3)\n",
    "    dummy_state = jnp.zeros([self.observation_size])\n",
    "    dummy_latent = jnp.zeros([self.target_size])\n",
    "    encoder_params = self._encoder.init(key_encoder, dummy_state)\n",
    "    decoder_params = self._decoder.init(key_decoder, dummy_latent)\n",
    "    return {'encoder': encoder_params, 'decoder': decoder_params}\n",
    "\n",
    "  def encode(self, params: Params, x: jnp.array):\n",
    "    return self._encoder.apply(params['encoder'], x)\n",
    "\n",
    "  def decode(self, params: Params, y: jnp.array):\n",
    "    return self._decoder.apply(params['decoder'], y)\n",
    "\n",
    "  def kmatrix(self, params: Params, x: jnp.ndarray, nx: jnp.ndarray):\n",
    "    y = self.encode(params, x)\n",
    "    ny = self.encode(params, nx)\n",
    "    return jnp.linalg.lstsq(y, ny)[0]\n",
    "\n",
    "  def residual(self, params: Params, x: jnp.ndarray, nx: jnp.ndarray):\n",
    "    \"\"\"Determines how linearly aligned x & nx are in the latent space.\"\"\"\n",
    "\n",
    "    y = self.encode(params, x)\n",
    "    ny = jax.lax.stop_gradient(self.encode(params, nx))\n",
    "    return jnp.linalg.lstsq(y, ny)[1]\n",
    "\n",
    "  def reconstruction(self, params: Params, x: jnp.ndarray):\n",
    "    return self.decode(params, jax.lax.stop_gradient(self.encode(params, x)))\n",
    "\n",
    "  def loss(self, params: Params, x: jnp.ndarray, nx: jnp.ndarray):\n",
    "\n",
    "    # linear dynamics loss\n",
    "    residual_loss = self.residual(params, x, nx).mean()\n",
    "    residual_loss += self.residual(params, nx, x).mean()\n",
    "\n",
    "    # NOTE: reconstruction is only for visualization purposes\n",
    "    # reconstruction loss\n",
    "    reconst_loss = jnp.linalg.norm(x - self.reconstruction(params, x), axis=-1).mean()\n",
    "    reconst_loss += jnp.linalg.norm(nx - self.reconstruction(params, nx), axis=-1).mean()\n",
    "    reconst_loss *= 0.02\n",
    "\n",
    "    loss = residual_loss + reconst_loss\n",
    "\n",
    "    return loss, {\n",
    "        'loss': loss,\n",
    "        'residual_loss': residual_loss,\n",
    "        'reconst_loss': reconst_loss,\n",
    "    }"
   ]
  },
  {
   "cell_type": "markdown",
   "metadata": {
    "id": "XVh87YY9aw-3"
   },
   "source": [
    "### Model Common"
   ]
  },
  {
   "cell_type": "code",
   "execution_count": null,
   "metadata": {
    "id": "k1NERP7lWBfr"
   },
   "outputs": [],
   "source": [
    "_KM_REGISTRY = {\n",
    "    \"GenericKM\": GenericKM,\n",
    "    \"LISTAKM\": LISTAKM,\n",
    "    # \"ReconKMImplicit\": ReconKMImplicit,\n",
    "    # \"SimSiamKMImplicit\": SimSiamKMImplicit,\n",
    "}\n",
    "\n",
    "def make_koopman_machine(cfg: ml_collections.ConfigDict, observation_size: int):\n",
    "  return _KM_REGISTRY[cfg.MODEL.MODEL_NAME](cfg, observation_size)"
   ]
  },
  {
   "cell_type": "code",
   "execution_count": null,
   "metadata": {
    "id": "a37u1f3RyimQ"
   },
   "outputs": [],
   "source": [
    "def make_km_env_n_step(\n",
    "    params: Params,\n",
    "    km: KoopmanMachine,\n",
    "    x: jnp.ndarray,\n",
    "    length: int,\n",
    "    reencode_at_every: int = 1,\n",
    "    ):\n",
    "    \"\"\"\n",
    "    env_step fn takes in a batch of states and outputs the N next states\n",
    "\n",
    "    reencode_at_every:  int pretty self-explanatory\n",
    "    \"\"\"\n",
    "\n",
    "\n",
    "    if reencode_at_every == 1:\n",
    "      # km_step_env = functools.partial(km.step_env, params=params)\n",
    "      km_step_env = lambda x: km.step_env(params, x)\n",
    "      km_traj = generate_trajectory(km_step_env, x, length, key)\n",
    "      return km_traj\n",
    "\n",
    "    elif reencode_at_every == 0:\n",
    "      # km_latent_step = functools.partial(km.step_latent, params=params)\n",
    "      km_latent_step = lambda z: km.step_latent(params, z)\n",
    "      y = km.encode(params, x)\n",
    "      km_latent_traj = generate_trajectory(km_latent_step, y, length, key)\n",
    "      km_traj = jax.vmap(km.decode, (None, 0))(params, km_latent_traj)\n",
    "      return km_traj\n",
    "\n",
    "    else:\n",
    "      assert length % reencode_at_every == 0\n",
    "      num_slices = length // reencode_at_every\n",
    "      km_trajs = []\n",
    "      # km_latent_step = functools.partial(km.step_latent, params=params)\n",
    "      km_latent_step = lambda z: km.step_latent(params, z)\n",
    "      for _ in range(num_slices):\n",
    "        y = km.encode(params, x)\n",
    "        km_latent_traj = generate_trajectory(km_latent_step, y, reencode_at_every, key)\n",
    "        decoded = jax.vmap(km.decode, (None, 0))(params, km_latent_traj)\n",
    "        km_trajs.append(decoded)\n",
    "        x = decoded[-1, :, :]\n",
    "      km_traj = jnp.concatenate(km_trajs, axis=0)\n",
    "      return km_traj\n",
    "\n",
    "def plot_eval(params, km, x, length=100, env_stp_fn=None) -> None:\n",
    "  clear_output(wait=True)\n",
    "\n",
    "  # ------------------------------\n",
    "  #           phase plots        #\n",
    "  # ------------------------------\n",
    "  # use predefined reencoding freqs\n",
    "  km_traj_0 = make_km_env_n_step(params, km, x, length, reencode_at_every=0)\n",
    "  km_traj_1 = make_km_env_n_step(params, km, x, length, reencode_at_every=1)\n",
    "  km_traj_10 = make_km_env_n_step(params, km, x, length, reencode_at_every=10)\n",
    "  km_traj_25 = make_km_env_n_step(params, km, x, length, reencode_at_every=25)\n",
    "  km_traj_50 = make_km_env_n_step(params, km, x, length, reencode_at_every=50)\n",
    "  fig, axs = plt.subplots(nrows=3, ncols=5, figsize=(40, 20))\n",
    "  axs[0, 0].plot(km_traj_0[:, :, 0], km_traj_0[:, :, 1])\n",
    "  axs[0, 0].set_title('reencode [x]')\n",
    "  axs[0, 1].plot(km_traj_1[:, :, 0], km_traj_1[:, :, 1])\n",
    "  axs[0, 1].set_title('reencode @ 1')\n",
    "  axs[0, 2].plot(km_traj_10[:, :, 0], km_traj_10[:, :, 1])\n",
    "  axs[0, 2].set_title('reencode @ 10')\n",
    "  axs[0, 3].plot(km_traj_25[:, :, 0], km_traj_25[:, :, 1])\n",
    "  axs[0, 3].set_title('reencode @ 25')\n",
    "  axs[0, 4].plot(km_traj_50[:, :, 0], km_traj_50[:, :, 1])\n",
    "  axs[0, 4].set_title('reencode @ 50')\n",
    "  for ax in axs.flat:\n",
    "    ax.set(xlabel='x1', ylabel='x2')\n",
    "\n",
    "  # ------------------------------\n",
    "  #         L2 error plots       #\n",
    "  # ------------------------------\n",
    "  # get ground truth trajectory\n",
    "  gt_traj = generate_trajectory(env_stp_fn, x, length, key)\n",
    "  err_fn = lambda x, y: jnp.linalg.norm(y - x, axis=-1).mean(axis=1)\n",
    "  err_0 = err_fn(gt_traj, km_traj_0)\n",
    "  err_1 = err_fn(gt_traj, km_traj_1)\n",
    "  err_10 = err_fn(gt_traj, km_traj_10)\n",
    "  err_25 = err_fn(gt_traj, km_traj_25)\n",
    "  err_50 = err_fn(gt_traj, km_traj_50)\n",
    "  axs[1, 0].plot(err_0)\n",
    "  axs[1, 1].plot(err_1)\n",
    "  axs[1, 2].plot(err_10)\n",
    "  axs[1, 3].plot(err_25)\n",
    "  axs[1, 4].plot(err_50)\n",
    "  axs[2, 0].plot(err_0, label=\"reencode @ 0\")\n",
    "  axs[2, 0].plot(err_1, label=\"reencode @ 1\")\n",
    "  axs[2, 0].plot(err_10, label=\"reencode @ 10\")\n",
    "  axs[2, 0].plot(err_25, label=\"reencode @ 25\")\n",
    "  axs[2, 0].plot(err_50, label=\"reencode @ 50\")\n",
    "  axs[2, 0].set_title('L2 error by horizon')\n",
    "  axs[2, 1].axis('off')\n",
    "  axs[2, 2].axis('off')\n",
    "  axs[2, 3].axis('off')\n",
    "  axs[2, 4].axis('off')\n",
    "  axs[2, 0].legend()\n",
    "  axs[2, 0].colspan = 5\n",
    "\n",
    "  plt.tight_layout()\n",
    "  plt.legend()\n",
    "  plt.show()"
   ]
  },
  {
   "cell_type": "markdown",
   "metadata": {
    "id": "vaQq12hSa1cZ"
   },
   "source": [
    "## Train"
   ]
  },
  {
   "cell_type": "markdown",
   "metadata": {
    "id": "0n-Zm3Ica4Ll"
   },
   "source": [
    "### Tensorboard"
   ]
  },
  {
   "cell_type": "code",
   "execution_count": null,
   "metadata": {
    "id": "Gdm-HPPhr97_"
   },
   "outputs": [],
   "source": [
    "log_dir = './log/'\n",
    "!rm -rf ./log/\n",
    "if not os.path.exists(log_dir):\n",
    "  os.mkdir(log_dir)\n",
    "else:\n",
    "  shutil.rmtree(log_dir)\n",
    "  os.mkdir(log_dir)"
   ]
  },
  {
   "cell_type": "code",
   "execution_count": null,
   "metadata": {
    "id": "YOd2WYyQox3b"
   },
   "outputs": [],
   "source": [
    "%tensorboard --logdir=./log/ --port=0"
   ]
  },
  {
   "cell_type": "markdown",
   "metadata": {
    "id": "Qg28Oe88a62N"
   },
   "source": [
    "### Train"
   ]
  },
  {
   "cell_type": "code",
   "execution_count": null,
   "metadata": {
    "id": "mN2-gsCIyjdw"
   },
   "outputs": [],
   "source": [
    "cfg = get_config() # get default config\n",
    "cfg.TRAIN.NUM_STEPS = 20_000\n",
    "cfg.ENV.ENV_NAME = \"DuffingOscillator\"\n",
    "# cfg.ENV.ENV_NAME = \"DS239\"\n",
    "\n",
    "\n",
    "#@markdown SELECT TRAINING CONFIG\n",
    "# ------------------------------ ## ------------------------------ #\n",
    "#                           C O N F I G                            #\n",
    "# ------------------------------ ## ------------------------------ #\n",
    "TRAIN_CFG = 'generic_sparse' #@param [\"generic\", \"generic_sparse\", \"generic_prediction\", \"LISTA\", \"LISTA_nonlinear\"]\n",
    "\n",
    "\n",
    "if TRAIN_CFG == 'generic':\n",
    "  # ------------------------ ## -------------------------- #\n",
    "  #                     G E N E R A L                       #\n",
    "  # ------------------------ ## -------------------------- #\n",
    "  cfg.TRAIN.LR = 1e-3\n",
    "  cfg.MODEL.MODEL_NAME = \"GenericKM\"\n",
    "  cfg.MODEL.TARGET_SIZE = 64\n",
    "  cfg.MODEL.NORM_FN = 'id'\n",
    "  cfg.MODEL.DECODER.LAYERS = []\n",
    "\n",
    "  # misc.\n",
    "  # cfg.MODEL.DECODER.USE_BIAS = True\n",
    "  # cfg.TRAIN.BATCH_SIZE = 256\n",
    "  # cfg.TRAIN.DATA_SIZE = cfg.TRAIN.BATCH_SIZE * 10\n",
    "  # cfg.TRAIN.BATCH_SIZE = 512\n",
    "  # cfg.MODEL.ENCODER.LAYERS = [64, 64, 64]\n",
    "  # cfg.MODEL.ENCODER.LAST_RELU = True\n",
    "  # cfg.MODEL.ENCODER.USE_BIAS = True\n",
    "\n",
    "  # bigger encoder\n",
    "  cfg.MODEL.ENCODER.LAYERS = [64, 64]\n",
    "\n",
    "  cfg.MODEL.SPARSITY_COEFF = 0.0\n",
    "\n",
    "elif TRAIN_CFG == 'generic_sparse':\n",
    "  # ------------------------ ## -------------------------- #\n",
    "  #                     G E N E R A L                       #\n",
    "  # ------------------------ ## -------------------------- #\n",
    "  cfg.TRAIN.LR = 1e-3\n",
    "  cfg.MODEL.MODEL_NAME = \"GenericKM\"\n",
    "  cfg.MODEL.TARGET_SIZE = 64\n",
    "  cfg.MODEL.NORM_FN = 'id'\n",
    "  cfg.MODEL.DECODER.LAYERS = []\n",
    "\n",
    "  # bigger encoder\n",
    "  cfg.MODEL.ENCODER.LAYERS = [64, 64]\n",
    "\n",
    "  cfg.MODEL.ENCODER.LAST_RELU = True\n",
    "  cfg.MODEL.ENCODER.USE_BIAS = True\n",
    "\n",
    "  cfg.MODEL.RECONST_COEFF = 0.5\n",
    "  cfg.MODEL.SPARSITY_COEFF = .01\n",
    "\n",
    "elif TRAIN_CFG == 'generic_prediction':\n",
    "  # ------------------------ ## -------------------------- #\n",
    "  #                      PREDICTION                        #\n",
    "  # ------------------------ ## -------------------------- #\n",
    "  cfg.MODEL.MODEL_NAME = \"GenericKM\"\n",
    "  cfg.TRAIN.LR = 1e-3\n",
    "  cfg.MODEL.DECODER.LAYERS = []\n",
    "\n",
    "  # loss hparams\n",
    "  cfg.MODEL.PRED_COEFF = 1.\n",
    "  cfg.MODEL.RES_COEFF = .0\n",
    "  cfg.MODEL.RECONST_COEFF = 0.0\n",
    "  cfg.MODEL.SPARSITY_COEFF = .0\n",
    "\n",
    "\n",
    "elif TRAIN_CFG == 'LISTA':\n",
    "  # ------------------------ ## -------------------------- #\n",
    "  #                     S P A R S E                        #\n",
    "  # ------------------------ ## -------------------------- #\n",
    "  cfg.MODEL.MODEL_NAME = \"LISTAKM\"\n",
    "  cfg.MODEL.ENCODER.LISTA.LINEAR_ENCODER = True\n",
    "  cfg.TRAIN.LR = 1e-4\n",
    "  cfg.MODEL.ENCODER.LISTA.NUM_LOOPS = 10\n",
    "  cfg.MODEL.TARGET_SIZE = 1024 * 2\n",
    "  cfg.MODEL.RES_COEFF = 1.0\n",
    "  cfg.MODEL.RECONST_COEFF = 1.0\n",
    "  cfg.MODEL.PRED_COEFF = .0\n",
    "  cfg.MODEL.SPARSITY_COEFF = 1.0\n",
    "  cfg.MODEL.NORM_FN = 'id'\n",
    "  cfg.MODEL.ENCODER.LISTA.L = 1e4\n",
    "  cfg.MODEL.ENCODER.LISTA.ALPHA = 0.1\n",
    "\n",
    "elif TRAIN_CFG == 'LISTA_nonlinear':\n",
    "  # ------------------------ ## -------------------------- #\n",
    "  #                     S P A R S E                        #\n",
    "  # ------------------------ ## -------------------------- #\n",
    "  cfg.MODEL.MODEL_NAME = \"LISTAKM\"\n",
    "  cfg.MODEL.ENCODER.LISTA.LINEAR_ENCODER = False\n",
    "  cfg.MODEL.ENCODER.LAYERS = [64, 64, 64]\n",
    "  cfg.TRAIN.LR = 1e-4\n",
    "  cfg.MODEL.ENCODER.LISTA.NUM_LOOPS = 10\n",
    "  cfg.MODEL.TARGET_SIZE = 1024 * 2\n",
    "  cfg.MODEL.RES_COEFF = 1.0\n",
    "  cfg.MODEL.RECONST_COEFF = 1.0\n",
    "  cfg.MODEL.PRED_COEFF = .0\n",
    "  cfg.MODEL.SPARSITY_COEFF = 1.0\n",
    "  cfg.MODEL.NORM_FN = 'id'\n",
    "  cfg.MODEL.ENCODER.LISTA.L = 1e4\n",
    "  cfg.MODEL.ENCODER.LISTA.ALPHA = 1.0\n",
    "  cfg.MODEL.ENCODER.LAST_RELU = True\n",
    "  cfg.MODEL.ENCODER.USE_BIAS = True\n",
    "\n",
    "\n",
    "print(cfg)"
   ]
  },
  {
   "cell_type": "code",
   "execution_count": null,
   "metadata": {
    "id": "awaOTShWww_W"
   },
   "outputs": [],
   "source": [
    "# ------------------------------ ## ------------------------------ #\n",
    "#\n",
    "#                          S T A T E F U L                         #\n",
    "#\n",
    "# ------------------------------ ## ------------------------------ #\n",
    "try:\n",
    "  sw.close()\n",
    "except:\n",
    "  pass\n",
    "\n",
    "sub_dir = str(datetime.now())\n",
    "sw = jaxboard.SummaryWriter(os.path.join(log_dir, sub_dir))\n",
    "\n",
    "seed = cfg.SEED\n",
    "batch_size = cfg.TRAIN.BATCH_SIZE\n",
    "num_steps = cfg.TRAIN.NUM_STEPS\n",
    "lr = cfg.TRAIN.LR\n",
    "\n",
    "env = make_env(cfg)\n",
    "env = VectorWrapper(env, batch_size)\n",
    "km = make_koopman_machine(cfg, env.observation_size)\n",
    "\n",
    "key = jax.random.PRNGKey(seed)\n",
    "key, key_train, key_init = jax.random.split(key, 3)\n",
    "num_batches = cfg.TRAIN.DATA_SIZE // cfg.TRAIN.BATCH_SIZE\n",
    "keys_train = jax.random.split(key, num_batches)\n",
    "\n",
    "init_params = km.init(key_init)\n",
    "optimizer = optax.adam(learning_rate=lr)\n",
    "\n",
    "train_state = TrainState.create(apply_fn=km.loss_grad, params=init_params, tx=optimizer)\n",
    "# ------------------------------ ## ------------------------------ #"
   ]
  },
  {
   "cell_type": "code",
   "execution_count": null,
   "metadata": {
    "id": "qbt_dptWgFCy"
   },
   "outputs": [],
   "source": [
    "# ------------------------------ ## ------------------------------ #\n",
    "#\n",
    "#                             T R A I N                            #\n",
    "#\n",
    "# ------------------------------ ## ------------------------------ #\n",
    "for it in range(train_state.step + 1, num_steps):\n",
    "  key_train = keys_train[it % num_batches]\n",
    "  x = env.reset(key_train)\n",
    "  nx = env.step(x)\n",
    "  (loss, metrics), grads = train_state.apply_fn(train_state.params, x, nx)\n",
    "  # print(train_state.params)\n",
    "  # print('____________________________________________________________________________________')\n",
    "  train_state = train_state.apply_gradients(grads=grads)\n",
    "\n",
    "  # metrics\n",
    "  for key, value in metrics.items():\n",
    "    sw.scalar(key, value, step=it)\n",
    "  sw.flush()\n",
    "\n",
    "  # eval\n",
    "  if it % 100 == 0:\n",
    "    plot_eval(train_state.params, km, x, 200, env.step)\n",
    "\n",
    "sw.close()\n",
    "# ------------------------------ ## ------------------------------ #"
   ]
  },
  {
   "cell_type": "code",
   "execution_count": null,
   "metadata": {
    "id": "7IOOoG1WEqfu"
   },
   "outputs": [],
   "source": [
    "x = jnp.concatenate([env.reset(k) for k in jax.random.split(key_train, 1)], axis=0)\n",
    "  nx = env.step(x)"
   ]
  },
  {
   "cell_type": "code",
   "execution_count": null,
   "metadata": {
    "id": "ASMAsa3EtEUl"
   },
   "outputs": [],
   "source": [
    "plot_eval(train_state.params, km, x, 50, env.step)"
   ]
  },
  {
   "cell_type": "code",
   "execution_count": null,
   "metadata": {
    "id": "iYs5Ky5odFYn"
   },
   "outputs": [],
   "source": [
    "x = jnp.arange(16, dtype=jnp.float32).reshape([4, 4])\n",
    "eigvals_fn(x)"
   ]
  },
  {
   "cell_type": "code",
   "execution_count": null,
   "metadata": {
    "id": "o_MgYVWydByd"
   },
   "outputs": [],
   "source": []
  }
 ],
 "metadata": {
  "colab": {
   "collapsed_sections": [
    "7UG56-47anmC",
    "nRlEAyVV5f0c"
   ],
   "last_runtime": {
    "build_target": "//learning/deepmind/dm_python:dm_notebook3",
    "kind": "private"
   },
   "private_outputs": true,
   "provenance": [
    {
     "file_id": "/piper/depot/google3/experimental/users/mahanf/koopman/notebooks/koopman.ipynb",
     "timestamp": 1761831758693
    },
    {
     "file_id": "1gI7G45g-bPjJSdTtnolQ_KPlfbXYd8oi",
     "timestamp": 1688757101171
    },
    {
     "file_id": "/piper/depot/google3/experimental/users/mahanf/koopman.ipynb?workspaceId=mahanf:koopman::citc",
     "timestamp": 1687828008863
    },
    {
     "file_id": "1EbMZmGLo4PAmqysWSMg7JgccxkkawASO",
     "timestamp": 1667856066261
    }
   ],
   "toc_visible": true
  },
  "kernelspec": {
   "display_name": ".venv",
   "language": "python",
   "name": "python3"
  },
  "language_info": {
   "codemirror_mode": {
    "name": "ipython",
    "version": 3
   },
   "file_extension": ".py",
   "mimetype": "text/x-python",
   "name": "python",
   "nbconvert_exporter": "python",
   "pygments_lexer": "ipython3",
   "version": "3.12.4"
  }
 },
 "nbformat": 4,
 "nbformat_minor": 0
}

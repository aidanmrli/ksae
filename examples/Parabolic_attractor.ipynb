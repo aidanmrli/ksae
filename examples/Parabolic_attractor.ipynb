{
  "cells": [
    {
      "cell_type": "markdown",
      "metadata": {},
      "source": [
        "# Parabolic Attractor Visualization\n",
        "\n",
        "This notebook visualizes trajectories of the parabolic attractor defined in `data.parabolic_spec`, and compares them with the invariant parabola x2 = x1^2.\n",
        "\n",
        "- System: dot(x1) = mu * x1, dot(x2) = lambda * (x2 - x1^2)\n",
        "- Parameters: mu = -0.1, lambda = -1.0\n",
        "- Integrator: RK4 (from `data.rk4_step`)\n",
        "\n"
      ]
    },
    {
      "cell_type": "code",
      "execution_count": null,
      "metadata": {},
      "outputs": [],
      "source": [
        "import numpy as np\n",
        "import matplotlib.pyplot as plt\n",
        "\n",
        "from data import parabolic_spec, rk4_step\n",
        "\n",
        "spec = parabolic_spec()\n",
        "\n",
        "# Simulation settings\n",
        "rng = np.random.default_rng(0)\n",
        "num_trajs = 12\n",
        "steps = 1500\n",
        "dt = 0.01\n",
        "\n",
        "# Sample initial conditions\n",
        "inits = [spec.init_sampler(rng).astype(np.float32) for _ in range(num_trajs)]\n",
        "\n",
        "# Simulate\n",
        "trajectories = []\n",
        "for idx in range(num_trajs):\n",
        "    x = inits[idx].copy()\n",
        "    traj = np.zeros((steps, 2), dtype=np.float32)\n",
        "    for k in range(steps):\n",
        "        traj[k] = x\n",
        "        x = rk4_step(spec.dynamics, k * dt, x, dt)\n",
        "    trajectories.append(traj)\n",
        "\n",
        "# Plot trajectories in state space\n",
        "xs = np.linspace(-1.2, 1.2, 400)\n",
        "parabola = xs ** 2\n",
        "\n",
        "plt.figure(figsize=(6, 5))\n",
        "for traj in trajectories:\n",
        "    plt.plot(traj[:, 0], traj[:, 1], alpha=0.7)\n",
        "\n",
        "plt.plot(xs, parabola, 'k--', label=r\"$x_2 = x_1^2$\")\n",
        "plt.axhline(0, color='gray', lw=0.5)\n",
        "plt.axvline(0, color='gray', lw=0.5)\n",
        "plt.xlabel(\"x1\")\n",
        "plt.ylabel(\"x2\")\n",
        "plt.title(\"Parabolic Attractor Trajectories\")\n",
        "plt.legend()\n",
        "plt.tight_layout()\n",
        "plt.show()\n"
      ]
    },
    {
      "cell_type": "code",
      "execution_count": null,
      "metadata": {},
      "outputs": [],
      "source": [
        "# Time series plots to show attraction toward the parabola\n",
        "mu, lam = -0.1, -1.0\n",
        "\n",
        "plt.figure(figsize=(10, 4))\n",
        "\n",
        "# Choose a couple of trajectories\n",
        "for j, idx in enumerate([0, 1, 2, 3]):\n",
        "    traj = trajectories[idx]\n",
        "    t = np.arange(steps) * dt\n",
        "    x1 = traj[:, 0]\n",
        "    x2 = traj[:, 1]\n",
        "    plt.plot(t, x2 - x1**2, label=f\"traj {idx}\")\n",
        "\n",
        "plt.axhline(0, color='k', lw=0.8)\n",
        "plt.xlabel(\"time\")\n",
        "plt.ylabel(r\"$x_2 - x_1^2$\")\n",
        "plt.title(\"Convergence of x2 - x1^2 toward 0\")\n",
        "plt.legend()\n",
        "plt.tight_layout()\n",
        "plt.show()\n"
      ]
    }
  ],
  "metadata": {
    "language_info": {
      "name": "python"
    }
  },
  "nbformat": 4,
  "nbformat_minor": 2
}

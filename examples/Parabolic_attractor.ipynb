{
  "cells": [
    {
      "cell_type": "markdown",
      "metadata": {},
      "source": [
        "# Parabolic Attractor Visualization\n",
        "\n",
        "This notebook visualizes trajectories of the parabolic attractor defined in `data.parabolic_spec`, and compares them with the invariant parabola x2 = x1^2.\n",
        "\n",
        "- System: dot(x1) = mu * x1, dot(x2) = lambda * (x2 - x1^2)\n",
        "- Parameters: mu = -0.1, lambda = -1.0\n",
        "- Integrator: RK4 (from `data.rk4_step`)\n",
        "\n"
      ]
    },
    {
      "cell_type": "code",
      "execution_count": null,
      "metadata": {},
      "outputs": [
        {
          "ename": "ModuleNotFoundError",
          "evalue": "No module named 'data'",
          "output_type": "error",
          "traceback": [
            "\u001b[0;31m---------------------------------------------------------------------------\u001b[0m",
            "\u001b[0;31mModuleNotFoundError\u001b[0m                       Traceback (most recent call last)",
            "Cell \u001b[0;32mIn[6], line 4\u001b[0m\n\u001b[1;32m      1\u001b[0m \u001b[38;5;28;01mimport\u001b[39;00m \u001b[38;5;21;01mnumpy\u001b[39;00m \u001b[38;5;28;01mas\u001b[39;00m \u001b[38;5;21;01mnp\u001b[39;00m\n\u001b[1;32m      2\u001b[0m \u001b[38;5;28;01mimport\u001b[39;00m \u001b[38;5;21;01mmatplotlib\u001b[39;00m\u001b[38;5;21;01m.\u001b[39;00m\u001b[38;5;21;01mpyplot\u001b[39;00m \u001b[38;5;28;01mas\u001b[39;00m \u001b[38;5;21;01mplt\u001b[39;00m\n\u001b[0;32m----> 4\u001b[0m \u001b[38;5;28;01mfrom\u001b[39;00m \u001b[38;5;21;01mdata\u001b[39;00m \u001b[38;5;28;01mimport\u001b[39;00m parabolic_spec, rk4_step\n\u001b[1;32m      6\u001b[0m spec \u001b[38;5;241m=\u001b[39m parabolic_spec()\n\u001b[1;32m      8\u001b[0m \u001b[38;5;66;03m# Simulation settings\u001b[39;00m\n",
            "\u001b[0;31mModuleNotFoundError\u001b[0m: No module named 'data'"
          ]
        }
      ],
      "source": [
        "import os, sys\n",
        "sys.path.insert(0, os.path.abspath(\"..\"))\n",
        "\n",
        "import numpy as np\n",
        "import matplotlib.pyplot as plt\n",
        "\n",
        "from data import parabolic_spec, rk4_step\n",
        "\n",
        "spec = parabolic_spec()\n",
        "\n",
        "# Simulation settings\n",
        "rng = np.random.default_rng(0)\n",
        "num_trajs = 12\n",
        "steps = 1500\n",
        "dt = 0.01\n",
        "\n",
        "# Sample initial conditions\n",
        "inits = [spec.init_sampler(rng).astype(np.float32) for _ in range(num_trajs)]\n",
        "\n",
        "# Simulate\n",
        "trajectories = []\n",
        "for idx in range(num_trajs):\n",
        "    x = inits[idx].copy()\n",
        "    traj = np.zeros((steps, 2), dtype=np.float32)\n",
        "    for k in range(steps):\n",
        "        traj[k] = x\n",
        "        x = rk4_step(spec.dynamics, k * dt, x, dt)\n",
        "    trajectories.append(traj)\n",
        "\n",
        "# Plot trajectories in state space\n",
        "xs = np.linspace(-1.2, 1.2, 400)\n",
        "parabola = xs ** 2\n",
        "\n",
        "plt.figure(figsize=(6, 5))\n",
        "for traj in trajectories:\n",
        "    plt.plot(traj[:, 0], traj[:, 1], alpha=0.7)\n",
        "\n",
        "plt.plot(xs, parabola, 'k--', label=r\"$x_2 = x_1^2$\")\n",
        "plt.axhline(0, color='gray', lw=0.5)\n",
        "plt.axvline(0, color='gray', lw=0.5)\n",
        "plt.xlabel(\"x1\")\n",
        "plt.ylabel(\"x2\")\n",
        "plt.title(\"Parabolic Attractor Trajectories\")\n",
        "plt.legend()\n",
        "plt.tight_layout()\n",
        "plt.show()\n"
      ]
    },
    {
      "cell_type": "code",
      "execution_count": null,
      "metadata": {},
      "outputs": [],
      "source": [
        "# Time series plots to show attraction toward the parabola\n",
        "mu, lam = -0.1, -1.0\n",
        "\n",
        "plt.figure(figsize=(10, 4))\n",
        "\n",
        "# Choose a couple of trajectories\n",
        "for j, idx in enumerate([0, 1, 2, 3]):\n",
        "    traj = trajectories[idx]\n",
        "    t = np.arange(steps) * dt\n",
        "    x1 = traj[:, 0]\n",
        "    x2 = traj[:, 1]\n",
        "    plt.plot(t, x2 - x1**2, label=f\"traj {idx}\")\n",
        "\n",
        "plt.axhline(0, color='k', lw=0.8)\n",
        "plt.xlabel(\"time\")\n",
        "plt.ylabel(r\"$x_2 - x_1^2$\")\n",
        "plt.title(\"Convergence of x2 - x1^2 toward 0\")\n",
        "plt.legend()\n",
        "plt.tight_layout()\n",
        "plt.show()\n"
      ]
    }
  ],
  "metadata": {
    "kernelspec": {
      "display_name": "csc413f23",
      "language": "python",
      "name": "python3"
    },
    "language_info": {
      "codemirror_mode": {
        "name": "ipython",
        "version": 3
      },
      "file_extension": ".py",
      "mimetype": "text/x-python",
      "name": "python",
      "nbconvert_exporter": "python",
      "pygments_lexer": "ipython3",
      "version": "3.11.9"
    }
  },
  "nbformat": 4,
  "nbformat_minor": 2
}

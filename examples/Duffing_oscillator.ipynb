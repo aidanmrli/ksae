{
  "cells": [
    {
      "cell_type": "markdown",
      "metadata": {},
      "source": [
        "# Duffing Oscillator Visualization\n",
        "\n",
        "This notebook visualizes trajectories of the undriven Duffing oscillator defined in `data.duffing_spec`.\n",
        "\n",
        "- System: dot(x) = v, dot(v) = x - x^3\n",
        "- Parameters: undamped and undriven (conservative)\n",
        "- Integrator: RK4 (from `data.rk4_step`)\n"
      ]
    },
    {
      "cell_type": "code",
      "execution_count": null,
      "metadata": {},
      "outputs": [],
      "source": [
        "import os, sys\n",
        "sys.path.insert(0, os.path.abspath(\"..\"))\n",
        "\n",
        "import numpy as np\n",
        "import matplotlib.pyplot as plt\n",
        "\n",
        "from data import duffing_spec, rk4_step\n",
        "\n",
        "spec = duffing_spec()\n",
        "\n",
        "# Simulation settings\n",
        "rng = np.random.default_rng(0)\n",
        "num_trajs = 12\n",
        "steps = 4000\n",
        "dt = 0.005\n",
        "\n",
        "# Sample initial conditions\n",
        "inits = [spec.init_sampler(rng).astype(np.float32) for _ in range(num_trajs)]\n",
        "\n",
        "# Simulate\n",
        "trajectories = []\n",
        "for idx in range(num_trajs):\n",
        "    x = inits[idx].copy()\n",
        "    traj = np.zeros((steps, 2), dtype=np.float32)\n",
        "    for k in range(steps):\n",
        "        traj[k] = x\n",
        "        x = rk4_step(spec.dynamics, k * dt, x, dt)\n",
        "    trajectories.append(traj)\n",
        "\n",
        "# Plot trajectories in phase space (x vs v)\n",
        "plt.figure(figsize=(6, 5))\n",
        "for traj in trajectories:\n",
        "    plt.plot(traj[:, 0], traj[:, 1], alpha=0.8)\n",
        "\n",
        "plt.axhline(0, color='gray', lw=0.5)\n",
        "plt.axvline(0, color='gray', lw=0.5)\n",
        "plt.xlabel(\"x\")\n",
        "plt.ylabel(\"v\")\n",
        "plt.title(\"Duffing Oscillator Phase Portrait (undriven)\")\n",
        "plt.tight_layout()\n",
        "plt.show()\n"
      ]
    },
    {
      "cell_type": "code",
      "execution_count": null,
      "metadata": {},
      "outputs": [],
      "source": [
        "def potential(x):\n",
        "    return -0.5 * x**2 + 0.25 * x**4\n",
        "\n",
        "plt.figure(figsize=(10, 4))\n",
        "\n",
        "# Choose a couple of trajectories to show energy fluctuate slightly (numerical)\n",
        "for j, idx in enumerate([0, 1, 2, 3]):\n",
        "    traj = trajectories[idx]\n",
        "    t = np.arange(steps) * dt\n",
        "    E = 0.5 * traj[:, 1]**2 + potential(traj[:, 0])\n",
        "    plt.plot(t, E - E[0], label=f\"traj {idx}\")\n",
        "\n",
        "plt.axhline(0, color='k', lw=0.8)\n",
        "plt.xlabel(\"time\")\n",
        "plt.ylabel(\"Energy - initial energy\")\n",
        "plt.title(\"Near energy conservation for undriven Duffing (RK4)\")\n",
        "plt.legend()\n",
        "plt.tight_layout()\n",
        "plt.show()\n"
      ]
    }
  ],
  "metadata": {
    "language_info": {
      "name": "python"
    }
  },
  "nbformat": 4,
  "nbformat_minor": 2
}

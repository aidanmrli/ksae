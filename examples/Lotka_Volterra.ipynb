{
  "cells": [
    {
      "cell_type": "markdown",
      "metadata": {},
      "source": [
        "## Lotka-Volterra predator-prey system\n",
        "\n",
        "This notebook simulates the Lotka-Volterra system defined in `data.lotka_volterra_spec` and visualizes a trajectory and the phase portrait.\n",
        "\n",
        "Parameters: alpha=beta=gamma=delta=0.2; initial conditions sampled uniformly from [0.02, 3.0]^2.\n"
      ]
    },
    {
      "cell_type": "code",
      "execution_count": null,
      "metadata": {},
      "outputs": [],
      "source": [
        "import numpy as np\n",
        "import matplotlib.pyplot as plt\n",
        "\n",
        "from data import lotka_volterra_spec, rk4_step\n",
        "\n",
        "spec = lotka_volterra_spec()\n",
        "rng = np.random.default_rng(0)\n",
        "\n",
        "# Simulation params\n",
        "T = 20.0\n",
        "dt = 0.01\n",
        "steps = int(T / dt)\n",
        "\n",
        "state = spec.init_sampler(rng).astype(np.float32)\n",
        "traj = np.zeros((steps, 2), dtype=np.float32)\n",
        "for k in range(steps):\n",
        "    traj[k] = state\n",
        "    state = rk4_step(spec.dynamics, k * dt, state, dt)\n",
        "\n",
        "fig, axes = plt.subplots(1, 2, figsize=(10, 4))\n",
        "\n",
        "t = np.arange(steps) * dt\n",
        "axes[0].plot(t, traj[:, 0], label='prey x1')\n",
        "axes[0].plot(t, traj[:, 1], label='predator x2')\n",
        "axes[0].set_xlabel('time')\n",
        "axes[0].legend()\n",
        "axes[0].set_title('Time series')\n",
        "\n",
        "axes[1].plot(traj[:, 0], traj[:, 1])\n",
        "axes[1].set_xlabel('x1 (prey)')\n",
        "axes[1].set_ylabel('x2 (predator)')\n",
        "axes[1].set_title('Phase portrait')\n",
        "\n",
        "plt.tight_layout()\n",
        "plt.show()\n"
      ]
    }
  ],
  "metadata": {
    "language_info": {
      "name": "python"
    }
  },
  "nbformat": 4,
  "nbformat_minor": 2
}
